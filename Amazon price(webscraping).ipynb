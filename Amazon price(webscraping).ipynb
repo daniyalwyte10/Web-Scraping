{
 "cells": [
  {
   "cell_type": "code",
   "execution_count": 8,
   "metadata": {},
   "outputs": [],
   "source": [
    "import requests\n",
    "from bs4 import BeautifulSoup\n",
    "import smtplib"
   ]
  },
  {
   "cell_type": "code",
   "execution_count": 9,
   "metadata": {},
   "outputs": [],
   "source": [
    "url = 'https://www.amazon.in/JBL-Over-Ear-Wireless-Noise-Cancelling-Headphones/dp/B07XRXVRZZ/ref=sr_1_2?dchild=1&keywords=over+the+ear+headphones+jbl&qid=1594825964&sr=8-2'\n",
    "headers={\"User-Agent\" : 'Mozilla/5.0 (Windows NT 10.0; Win64; x64) AppleWebKit/537.36 (KHTML, like Gecko) Chrome/83.0.4103.116 Safari/537.36'}\n",
    "\n",
    "r=requests.get(url , headers=headers)\n",
    "c=r.content"
   ]
  },
  {
   "cell_type": "code",
   "execution_count": 10,
   "metadata": {},
   "outputs": [],
   "source": [
    "soup = BeautifulSoup(c,'html.parser')\n",
    "#print(soup.prettify())"
   ]
  },
  {
   "cell_type": "code",
   "execution_count": 11,
   "metadata": {
    "scrolled": true
   },
   "outputs": [
    {
     "name": "stdout",
     "output_type": "stream",
     "text": [
      "JBL Tune 750BTNC Over-Ear Wireless Active Noise-Cancelling Headphones with 15 Hours Playtime (Black)\n",
      "5.999\n",
      "email has been sent to the requested mail..!\n"
     ]
    }
   ],
   "source": [
    "def price_check():\n",
    "    title = soup.find(id=\"productTitle\").text\n",
    "    pg = soup.find(id=\"priceblock_ourprice\").text\n",
    "    covt_pr=float(pg.replace('₹\\xa0' , '').replace(',', '.').replace('5.999.00', '5.999'))\n",
    "    print(title.strip())\n",
    "    print(covt_pr)\n",
    "    if (covt_pr > 5.500):\n",
    "        send_mail()\n",
    "price_check()"
   ]
  },
  {
   "cell_type": "code",
   "execution_count": 12,
   "metadata": {},
   "outputs": [
    {
     "name": "stdout",
     "output_type": "stream",
     "text": [
      "JBL Tune 750BTNC Over-Ear Wireless Active Noise-Cancelling Headphones with 15 Hours Playtime (Black)\n",
      "5.999\n",
      "email has been sent to the requested mail..!\n"
     ]
    }
   ],
   "source": [
    "def send_mail():\n",
    "    server = smtplib.SMTP('smtp.gmail.com', 587)\n",
    "    server.ehlo()\n",
    "    server.starttls()\n",
    "    server.ehlo()\n",
    "    server.login('huzaifa.ahmed.cs@gmail.com', 'Zingzing00')\n",
    "    subject = 'price fell down'\n",
    "    body='Check the amazon link below https://www.amazon.in/JBL-Over-Ear-Wireless-Noise-Cancelling-Headphones/dp/B07XRXVRZZ/ref=sr_1_2?dchild=1&keywords=over+the+ear+headphones+jbl&qid=1594825964&sr=8-2'\n",
    "    msg=f\"Subject:{subject}\\n\\n{body}\"\n",
    "    server.sendmail(\n",
    "          \"huzaifa.ahmed.cs@gmail.com\",  #from\n",
    "           \"user98851@gmail.com\",        #to\n",
    "            msg                         #message\n",
    "                    )\n",
    "    print(\"email has been sent to the requested mail..!\")\n",
    "    server.quit()\n",
    "    \n",
    "\n",
    "price_check()"
   ]
  },
  {
   "cell_type": "code",
   "execution_count": null,
   "metadata": {},
   "outputs": [],
   "source": []
  }
 ],
 "metadata": {
  "kernelspec": {
   "display_name": "Python 3",
   "language": "python",
   "name": "python3"
  },
  "language_info": {
   "codemirror_mode": {
    "name": "ipython",
    "version": 3
   },
   "file_extension": ".py",
   "mimetype": "text/x-python",
   "name": "python",
   "nbconvert_exporter": "python",
   "pygments_lexer": "ipython3",
   "version": "3.8.3"
  }
 },
 "nbformat": 4,
 "nbformat_minor": 4
}
